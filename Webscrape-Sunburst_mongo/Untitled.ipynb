{
 "cells": [
  {
   "cell_type": "code",
   "execution_count": 1,
   "metadata": {},
   "outputs": [],
   "source": [
    "#Import Dependencies\n",
    "import pandas as pd\n",
    "from bs4 import BeautifulSoup as bs\n",
    "import pymongo\n",
    "import requests\n",
    "from splinter import Browser"
   ]
  },
  {
   "cell_type": "code",
   "execution_count": 2,
   "metadata": {},
   "outputs": [],
   "source": [
    "executable_path = {'executable_path': '/usr/local/bin/chromedriver'}\n",
    "browser = Browser('chrome', **executable_path, headless=False)\n",
    "url = \"https://www.renewableenergyworld.com\"\n",
    "base_url = \"https://www.renewableenergyworld.com\"\n",
    "browser.visit(url)\n",
    "response4 = requests.get(url)\n",
    "html = browser.html\n",
    "soup = bs(html, 'html.parser')"
   ]
  },
  {
   "cell_type": "code",
   "execution_count": 3,
   "metadata": {},
   "outputs": [],
   "source": [
    "link_list = []\n",
    "title_list = []"
   ]
  },
  {
   "cell_type": "code",
   "execution_count": 4,
   "metadata": {},
   "outputs": [],
   "source": [
    "#Use Splinter to visit the given page\n",
    "for x in range (5):\n",
    "    url = \"https://www.renewableenergyworld.com\"\n",
    "    browser.visit(url)\n",
    "    link_ = soup.findAll('article')\n",
    "    link = link_[x].find('link').get('href')\n",
    "    link_list.append(link)\n",
    "    link_ = soup.findAll('article')\n",
    "    title = link_[x].find('h2', class_='post-list-item__title').find('a').text\n",
    "    link_list.append(link)\n",
    "    title_list.append(title)\n"
   ]
  },
  {
   "cell_type": "code",
   "execution_count": 5,
   "metadata": {},
   "outputs": [
    {
     "name": "stdout",
     "output_type": "stream",
     "text": [
      "https://www.renewableenergyworld.com/2020/10/09/report-u-s-corporate-solar-investments-swell-to-8300-mw/\n"
     ]
    }
   ],
   "source": [
    "print(link_list[0])"
   ]
  },
  {
   "cell_type": "code",
   "execution_count": 6,
   "metadata": {},
   "outputs": [
    {
     "name": "stdout",
     "output_type": "stream",
     "text": [
      "https://www.renewableenergyworld.com/2020/10/09/report-u-s-corporate-solar-investments-swell-to-8300-mw/\n"
     ]
    }
   ],
   "source": [
    "print(link_list[1])"
   ]
  },
  {
   "cell_type": "code",
   "execution_count": 7,
   "metadata": {},
   "outputs": [
    {
     "name": "stdout",
     "output_type": "stream",
     "text": [
      "['Report: U.S. corporate solar investments swell to 8300 MW', 'Minnesota co-op recognized for commitment to renewable energy', 'Festival to fuel six weeks of energy engagement for Africa', 'Clean energy sector down almost half a million jobs due to COVID', 'California Energy Commission funding energy storage, microgrid firms']\n"
     ]
    }
   ],
   "source": [
    "print(title_list)"
   ]
  },
  {
   "cell_type": "code",
   "execution_count": null,
   "metadata": {},
   "outputs": [],
   "source": []
  }
 ],
 "metadata": {
  "kernelspec": {
   "display_name": "Python 3",
   "language": "python",
   "name": "python3"
  },
  "language_info": {
   "codemirror_mode": {
    "name": "ipython",
    "version": 3
   },
   "file_extension": ".py",
   "mimetype": "text/x-python",
   "name": "python",
   "nbconvert_exporter": "python",
   "pygments_lexer": "ipython3",
   "version": "3.7.6"
  }
 },
 "nbformat": 4,
 "nbformat_minor": 4
}
